{
 "cells": [
  {
   "cell_type": "markdown",
   "metadata": {},
   "source": [
    "# Categorização de produtos usando Doc2Vec\n",
    "## classificador: LightGBM"
   ]
  },
  {
   "cell_type": "markdown",
   "metadata": {},
   "source": [
    "Bibliotecas e Configurações"
   ]
  },
  {
   "cell_type": "code",
   "execution_count": 1,
   "metadata": {},
   "outputs": [],
   "source": [
    "import numpy as np\n",
    "import pandas as pd\n",
    "import time\n",
    "import matplotlib.pyplot as plt \n",
    "import boto3\n",
    "import gensim\n",
    "import lightgbm as lgb\n",
    "from typing import List\n",
    "\n",
    "from gensim import corpora\n",
    "from gensim.utils import simple_preprocess\n",
    "from gensim.utils import simple_tokenize\n",
    "from gensim.models.doc2vec import Doc2Vec, TaggedDocument\n",
    "from sklearn.metrics import classification_report\n"
   ]
  },
  {
   "cell_type": "markdown",
   "metadata": {},
   "source": [
    "Importando o Dataset"
   ]
  },
  {
   "cell_type": "code",
   "execution_count": 2,
   "metadata": {},
   "outputs": [],
   "source": [
    "path = 's3://data/'\n",
    "file_train = 'sample_products.csv'\n",
    "file_test =  'test_products.csv'\n",
    "endpoint_url='http://minio:9000'\n",
    "AWS_ACCESS_KEY_ID = 'minio'\n",
    "AWS_SECRET_ACCESS_KEY = 'minio123'\n",
    "storage_options={\n",
    "        \"key\": AWS_ACCESS_KEY_ID,\n",
    "        \"secret\": AWS_SECRET_ACCESS_KEY,\n",
    "        \"client_kwargs\": {\"endpoint_url\": endpoint_url}\n",
    "    }\n",
    "\n",
    "df_train = pd.read_csv(path+file_train,storage_options=storage_options)\n",
    "df_test = pd.read_csv(path+file_test,storage_options=storage_options)"
   ]
  },
  {
   "cell_type": "markdown",
   "metadata": {},
   "source": [
    "Verificando colunas dos Datasets"
   ]
  },
  {
   "cell_type": "code",
   "execution_count": 3,
   "metadata": {},
   "outputs": [
    {
     "name": "stdout",
     "output_type": "stream",
     "text": [
      "Index(['product_id', 'seller_id', 'query', 'search_page', 'position', 'title',\n",
      "       'concatenated_tags', 'creation_date', 'price', 'weight',\n",
      "       'express_delivery', 'minimum_quantity', 'view_counts', 'order_counts',\n",
      "       'category'],\n",
      "      dtype='object')\n",
      "Index(['product_id', 'seller_id', 'query', 'search_page', 'position', 'title',\n",
      "       'concatenated_tags', 'creation_date', 'price', 'weight',\n",
      "       'express_delivery', 'minimum_quantity', 'view_counts', 'order_counts',\n",
      "       'category'],\n",
      "      dtype='object')\n"
     ]
    }
   ],
   "source": [
    "print(df_train.columns)\n",
    "print(df_test.columns)"
   ]
  },
  {
   "cell_type": "markdown",
   "metadata": {},
   "source": [
    "Analisando os dados"
   ]
  },
  {
   "cell_type": "code",
   "execution_count": 4,
   "metadata": {},
   "outputs": [
    {
     "name": "stdout",
     "output_type": "stream",
     "text": [
      "Número de Linhas por categoria:\n",
      "Lembrancinhas         17524\n",
      "Decoração              8723\n",
      "Bebê                   6930\n",
      "Papel e Cia            2750\n",
      "Outros                 1133\n",
      "Bijuterias e Jóias      940\n",
      "Name: category, dtype: int64\n",
      "Lembrancinhas         230\n",
      "Decoração             122\n",
      "Bebê                   95\n",
      "Papel e Cia            27\n",
      "Outros                 15\n",
      "Bijuterias e Jóias     11\n",
      "Name: category, dtype: int64\n"
     ]
    }
   ],
   "source": [
    "print(\"Número de Linhas por categoria:\")\n",
    "print(df_train['category'].value_counts())\n",
    "print(df_test['category'].value_counts())"
   ]
  },
  {
   "cell_type": "markdown",
   "metadata": {},
   "source": [
    "Plotando o número de produtos por categoria"
   ]
  },
  {
   "cell_type": "code",
   "execution_count": 5,
   "metadata": {},
   "outputs": [
    {
     "data": {
      "image/png": "[encoded data removed]",
      "text/plain": [
       "<Figure size 432x288 with 1 Axes>"
      ]
     },
     "metadata": {
      "needs_background": "light"
     },
     "output_type": "display_data"
    }
   ],
   "source": [
    "plt.figure()\n",
    "pd.value_counts(df_train['category']).plot.bar(title=\"Número de produtos por categoria no df\")\n",
    "plt.xlabel(\"Categoria\")\n",
    "plt.ylabel(\"Número de produtos\")\n",
    "plt.show()"
   ]
  },
  {
   "cell_type": "markdown",
   "metadata": {},
   "source": [
    "Podemos perceber que o número de produtos por categoria não é similar.\n",
    "\n",
    "Uma possivel abordagem é o uso de algoritmos baseados em árvore de dedicão, onde  mesmo com o desbalanceamento de classe a árvore de decisão consegue crescer para as categorias com mais dados, sem impactar a performance de categorias com menos dados de treinamento."
   ]
  },
  {
   "cell_type": "code",
   "execution_count": 6,
   "metadata": {},
   "outputs": [
    {
     "data": {
      "image/png": "[encoded data removed]",
      "text/plain": [
       "<Figure size 432x288 with 1 Axes>"
      ]
     },
     "metadata": {
      "needs_background": "light"
     },
     "output_type": "display_data"
    }
   ],
   "source": [
    "plt.figure()\n",
    "pd.value_counts(df_test['category']).plot.bar(title=\"Número de produtos por categoria no df de test\")\n",
    "plt.xlabel(\"Categoria\")\n",
    "plt.ylabel(\"Número de produtos\")\n",
    "plt.show()"
   ]
  },
  {
   "cell_type": "markdown",
   "metadata": {},
   "source": [
    "### Pré-processamento"
   ]
  },
  {
   "cell_type": "markdown",
   "metadata": {},
   "source": [
    "Deduplicar produtos no df"
   ]
  },
  {
   "cell_type": "code",
   "execution_count": 7,
   "metadata": {},
   "outputs": [
    {
     "data": {
      "text/html": [
       "<div>\n",
       "<style scoped>\n",
       "    .dataframe tbody tr th:only-of-type {\n",
       "        vertical-align: middle;\n",
       "    }\n",
       "\n",
       "    .dataframe tbody tr th {\n",
       "        vertical-align: top;\n",
       "    }\n",
       "\n",
       "    .dataframe thead th {\n",
       "        text-align: right;\n",
       "    }\n",
       "</style>\n",
       "<table border=\"1\" class=\"dataframe\">\n",
       "  <thead>\n",
       "    <tr style=\"text-align: right;\">\n",
       "      <th></th>\n",
       "      <th>product_id</th>\n",
       "      <th>seller_id</th>\n",
       "      <th>query</th>\n",
       "      <th>search_page</th>\n",
       "      <th>position</th>\n",
       "      <th>title</th>\n",
       "      <th>concatenated_tags</th>\n",
       "      <th>creation_date</th>\n",
       "      <th>price</th>\n",
       "      <th>weight</th>\n",
       "      <th>express_delivery</th>\n",
       "      <th>minimum_quantity</th>\n",
       "      <th>view_counts</th>\n",
       "      <th>order_counts</th>\n",
       "      <th>category</th>\n",
       "    </tr>\n",
       "  </thead>\n",
       "  <tbody>\n",
       "    <tr>\n",
       "      <th>4</th>\n",
       "      <td>5190417</td>\n",
       "      <td>2497208</td>\n",
       "      <td>vaso de barro atacado</td>\n",
       "      <td>1</td>\n",
       "      <td>23</td>\n",
       "      <td>30 Mini Vaso 6cm Cerâmica Lembrancinha casamen...</td>\n",
       "      <td>cha bebe lhama mini vasos c adesivos</td>\n",
       "      <td>2018-10-19 00:22:33</td>\n",
       "      <td>11.47</td>\n",
       "      <td>2009.0</td>\n",
       "      <td>1</td>\n",
       "      <td>39</td>\n",
       "      <td>741</td>\n",
       "      <td>NaN</td>\n",
       "      <td>Lembrancinhas</td>\n",
       "    </tr>\n",
       "    <tr>\n",
       "      <th>5</th>\n",
       "      <td>10824861</td>\n",
       "      <td>7704056</td>\n",
       "      <td>painel macrame</td>\n",
       "      <td>1</td>\n",
       "      <td>19</td>\n",
       "      <td>Painel Macramê Boho Aiyra</td>\n",
       "      <td>tecer macrame</td>\n",
       "      <td>2018-06-02 15:50:11</td>\n",
       "      <td>269.75</td>\n",
       "      <td>9.0</td>\n",
       "      <td>1</td>\n",
       "      <td>1</td>\n",
       "      <td>584</td>\n",
       "      <td>20.0</td>\n",
       "      <td>Decoração</td>\n",
       "    </tr>\n",
       "    <tr>\n",
       "      <th>23</th>\n",
       "      <td>14174092</td>\n",
       "      <td>9631672</td>\n",
       "      <td>lembrancas para formatura de direito</td>\n",
       "      <td>1</td>\n",
       "      <td>8</td>\n",
       "      <td>Copo Personalizado Formatura Direito</td>\n",
       "      <td>formatura</td>\n",
       "      <td>2018-04-26 21:51:25</td>\n",
       "      <td>11.14</td>\n",
       "      <td>0.0</td>\n",
       "      <td>1</td>\n",
       "      <td>103</td>\n",
       "      <td>398</td>\n",
       "      <td>NaN</td>\n",
       "      <td>Lembrancinhas</td>\n",
       "    </tr>\n",
       "    <tr>\n",
       "      <th>24</th>\n",
       "      <td>1986516</td>\n",
       "      <td>8225602</td>\n",
       "      <td>pulseira para madrinha de casamento</td>\n",
       "      <td>1</td>\n",
       "      <td>36</td>\n",
       "      <td>Kit 12 Pulseiras Madrinhas Folheada Ouro Casam...</td>\n",
       "      <td>madrinhas noivas noivas pulseira ouro</td>\n",
       "      <td>2017-10-09 10:52:20</td>\n",
       "      <td>130.70</td>\n",
       "      <td>12.0</td>\n",
       "      <td>1</td>\n",
       "      <td>1</td>\n",
       "      <td>221</td>\n",
       "      <td>9.0</td>\n",
       "      <td>Bijuterias e Jóias</td>\n",
       "    </tr>\n",
       "    <tr>\n",
       "      <th>27</th>\n",
       "      <td>3926411</td>\n",
       "      <td>6406087</td>\n",
       "      <td>15 anos</td>\n",
       "      <td>3</td>\n",
       "      <td>26</td>\n",
       "      <td>COPO 15 ANOS PERSONALIZADO</td>\n",
       "      <td>aniversario 15 anos lembrancinha 15 anos camilly</td>\n",
       "      <td>2018-05-24 13:17:01</td>\n",
       "      <td>1.89</td>\n",
       "      <td>7.0</td>\n",
       "      <td>1</td>\n",
       "      <td>110</td>\n",
       "      <td>870</td>\n",
       "      <td>NaN</td>\n",
       "      <td>Lembrancinhas</td>\n",
       "    </tr>\n",
       "    <tr>\n",
       "      <th>...</th>\n",
       "      <td>...</td>\n",
       "      <td>...</td>\n",
       "      <td>...</td>\n",
       "      <td>...</td>\n",
       "      <td>...</td>\n",
       "      <td>...</td>\n",
       "      <td>...</td>\n",
       "      <td>...</td>\n",
       "      <td>...</td>\n",
       "      <td>...</td>\n",
       "      <td>...</td>\n",
       "      <td>...</td>\n",
       "      <td>...</td>\n",
       "      <td>...</td>\n",
       "      <td>...</td>\n",
       "    </tr>\n",
       "    <tr>\n",
       "      <th>480</th>\n",
       "      <td>1641768</td>\n",
       "      <td>7565210</td>\n",
       "      <td>lembrancinha patrulha canina</td>\n",
       "      <td>5</td>\n",
       "      <td>18</td>\n",
       "      <td>50 Apliques Patrulha Canina</td>\n",
       "      <td>patrulha canina papelaria festa 4o aniversario...</td>\n",
       "      <td>2016-11-25 23:33:52</td>\n",
       "      <td>26.26</td>\n",
       "      <td>13.0</td>\n",
       "      <td>1</td>\n",
       "      <td>4</td>\n",
       "      <td>625</td>\n",
       "      <td>61.0</td>\n",
       "      <td>Papel e Cia</td>\n",
       "    </tr>\n",
       "    <tr>\n",
       "      <th>486</th>\n",
       "      <td>4374398</td>\n",
       "      <td>7223369</td>\n",
       "      <td>necessaire personalizada</td>\n",
       "      <td>5</td>\n",
       "      <td>23</td>\n",
       "      <td>Lembrança - necessaire personalizada P</td>\n",
       "      <td>lembranca casamento necessaire clinica</td>\n",
       "      <td>2017-07-11 08:38:56</td>\n",
       "      <td>20.66</td>\n",
       "      <td>5.0</td>\n",
       "      <td>1</td>\n",
       "      <td>10</td>\n",
       "      <td>260</td>\n",
       "      <td>8.0</td>\n",
       "      <td>Lembrancinhas</td>\n",
       "    </tr>\n",
       "    <tr>\n",
       "      <th>487</th>\n",
       "      <td>10262909</td>\n",
       "      <td>2597184</td>\n",
       "      <td>kit fraldas de boca</td>\n",
       "      <td>1</td>\n",
       "      <td>4</td>\n",
       "      <td>Kit Fraldas de Boca Nuvem</td>\n",
       "      <td>fralda boca anuncio gravidez kit fraldas</td>\n",
       "      <td>2017-07-25 11:37:19</td>\n",
       "      <td>67.41</td>\n",
       "      <td>235.0</td>\n",
       "      <td>1</td>\n",
       "      <td>6</td>\n",
       "      <td>1026</td>\n",
       "      <td>22.0</td>\n",
       "      <td>Bebê</td>\n",
       "    </tr>\n",
       "    <tr>\n",
       "      <th>489</th>\n",
       "      <td>9488501</td>\n",
       "      <td>1433098</td>\n",
       "      <td>lembrancinha dia dos pais</td>\n",
       "      <td>5</td>\n",
       "      <td>19</td>\n",
       "      <td>Caneca Personalizada Dia dos pais -Lembrancinh...</td>\n",
       "      <td>caneca personalizada dia pais lembrancinha dia...</td>\n",
       "      <td>2017-06-25 20:55:46</td>\n",
       "      <td>23.23</td>\n",
       "      <td>606.0</td>\n",
       "      <td>1</td>\n",
       "      <td>1</td>\n",
       "      <td>184</td>\n",
       "      <td>21.0</td>\n",
       "      <td>Lembrancinhas</td>\n",
       "    </tr>\n",
       "    <tr>\n",
       "      <th>495</th>\n",
       "      <td>726319</td>\n",
       "      <td>4527735</td>\n",
       "      <td>lembrancinhas de igreja dia dos pais</td>\n",
       "      <td>2</td>\n",
       "      <td>14</td>\n",
       "      <td>Dia dos pais</td>\n",
       "      <td>dia pais</td>\n",
       "      <td>2016-07-09 22:06:53</td>\n",
       "      <td>15.77</td>\n",
       "      <td>8.0</td>\n",
       "      <td>1</td>\n",
       "      <td>10</td>\n",
       "      <td>279</td>\n",
       "      <td>NaN</td>\n",
       "      <td>Lembrancinhas</td>\n",
       "    </tr>\n",
       "  </tbody>\n",
       "</table>\n",
       "<p>190 rows × 15 columns</p>\n",
       "</div>"
      ],
      "text/plain": [
       "     product_id  seller_id                                 query  search_page  \\\n",
       "4       5190417    2497208                 vaso de barro atacado            1   \n",
       "5      10824861    7704056                        painel macrame            1   \n",
       "23     14174092    9631672  lembrancas para formatura de direito            1   \n",
       "24      1986516    8225602   pulseira para madrinha de casamento            1   \n",
       "27      3926411    6406087                               15 anos            3   \n",
       "..          ...        ...                                   ...          ...   \n",
       "480     1641768    7565210          lembrancinha patrulha canina            5   \n",
       "486     4374398    7223369              necessaire personalizada            5   \n",
       "487    10262909    2597184                   kit fraldas de boca            1   \n",
       "489     9488501    1433098             lembrancinha dia dos pais            5   \n",
       "495      726319    4527735  lembrancinhas de igreja dia dos pais            2   \n",
       "\n",
       "     position                                              title  \\\n",
       "4          23  30 Mini Vaso 6cm Cerâmica Lembrancinha casamen...   \n",
       "5          19                          Painel Macramê Boho Aiyra   \n",
       "23          8               Copo Personalizado Formatura Direito   \n",
       "24         36  Kit 12 Pulseiras Madrinhas Folheada Ouro Casam...   \n",
       "27         26                         COPO 15 ANOS PERSONALIZADO   \n",
       "..        ...                                                ...   \n",
       "480        18                        50 Apliques Patrulha Canina   \n",
       "486        23             Lembrança - necessaire personalizada P   \n",
       "487         4                          Kit Fraldas de Boca Nuvem   \n",
       "489        19  Caneca Personalizada Dia dos pais -Lembrancinh...   \n",
       "495        14                                       Dia dos pais   \n",
       "\n",
       "                                     concatenated_tags        creation_date  \\\n",
       "4                 cha bebe lhama mini vasos c adesivos  2018-10-19 00:22:33   \n",
       "5                                        tecer macrame  2018-06-02 15:50:11   \n",
       "23                                           formatura  2018-04-26 21:51:25   \n",
       "24               madrinhas noivas noivas pulseira ouro  2017-10-09 10:52:20   \n",
       "27    aniversario 15 anos lembrancinha 15 anos camilly  2018-05-24 13:17:01   \n",
       "..                                                 ...                  ...   \n",
       "480  patrulha canina papelaria festa 4o aniversario...  2016-11-25 23:33:52   \n",
       "486             lembranca casamento necessaire clinica  2017-07-11 08:38:56   \n",
       "487           fralda boca anuncio gravidez kit fraldas  2017-07-25 11:37:19   \n",
       "489  caneca personalizada dia pais lembrancinha dia...  2017-06-25 20:55:46   \n",
       "495                                           dia pais  2016-07-09 22:06:53   \n",
       "\n",
       "      price  weight  express_delivery  minimum_quantity  view_counts  \\\n",
       "4     11.47  2009.0                 1                39          741   \n",
       "5    269.75     9.0                 1                 1          584   \n",
       "23    11.14     0.0                 1               103          398   \n",
       "24   130.70    12.0                 1                 1          221   \n",
       "27     1.89     7.0                 1               110          870   \n",
       "..      ...     ...               ...               ...          ...   \n",
       "480   26.26    13.0                 1                 4          625   \n",
       "486   20.66     5.0                 1                10          260   \n",
       "487   67.41   235.0                 1                 6         1026   \n",
       "489   23.23   606.0                 1                 1          184   \n",
       "495   15.77     8.0                 1                10          279   \n",
       "\n",
       "     order_counts            category  \n",
       "4             NaN       Lembrancinhas  \n",
       "5            20.0           Decoração  \n",
       "23            NaN       Lembrancinhas  \n",
       "24            9.0  Bijuterias e Jóias  \n",
       "27            NaN       Lembrancinhas  \n",
       "..            ...                 ...  \n",
       "480          61.0         Papel e Cia  \n",
       "486           8.0       Lembrancinhas  \n",
       "487          22.0                Bebê  \n",
       "489          21.0       Lembrancinhas  \n",
       "495           NaN       Lembrancinhas  \n",
       "\n",
       "[190 rows x 15 columns]"
      ]
     },
     "execution_count": 7,
     "metadata": {},
     "output_type": "execute_result"
    }
   ],
   "source": [
    "(df_test\n",
    ".loc[lambda f : f['product_id'].isin(set(df_train.product_id.to_list()))])"
   ]
  },
  {
   "cell_type": "markdown",
   "metadata": {},
   "source": [
    "Retirando produtos duplicados do conjunto de treinamento"
   ]
  },
  {
   "cell_type": "code",
   "execution_count": 8,
   "metadata": {},
   "outputs": [],
   "source": [
    "df_train = (df_train.loc[lambda f : ~f['product_id'].isin(set(df_test.product_id.to_list()))])"
   ]
  },
  {
   "cell_type": "code",
   "execution_count": 9,
   "metadata": {},
   "outputs": [],
   "source": [
    "df_copy = df_train.copy()\n",
    "df_copy_test = df_test.copy()\n",
    "df_copy = df_copy.drop_duplicates('product_id')\n",
    "df_copy_test = df_copy_test.drop_duplicates('product_id')"
   ]
  },
  {
   "cell_type": "markdown",
   "metadata": {},
   "source": [
    "Concatenando título, query e tags"
   ]
  },
  {
   "cell_type": "code",
   "execution_count": 10,
   "metadata": {},
   "outputs": [],
   "source": [
    "\n",
    "df_copy[\"text\"] = df_copy[\"concatenated_tags\"] + \" \" + df_copy[\"title\"]\n",
    "df_copy = df_copy[df_copy[\"text\"].notnull()]\n",
    "\n",
    "df_copy_test[\"text\"] = df_copy_test[\"concatenated_tags\"] + \" \" + df_copy_test[\"title\"]\n",
    "df_copy_test = df_copy_test[df_copy_test[\"text\"].notnull()]"
   ]
  },
  {
   "cell_type": "markdown",
   "metadata": {},
   "source": [
    "Criar uma coluna para cada categoria, para realizar o one-hot-encoding"
   ]
  },
  {
   "cell_type": "code",
   "execution_count": 11,
   "metadata": {},
   "outputs": [
    {
     "name": "stdout",
     "output_type": "stream",
     "text": [
      "   Bebê  Bijuterias e Jóias  Decoração  Lembrancinhas  Outros  Papel e Cia\n",
      "0     0                   0          1              0       0            0\n",
      "1     0                   0          0              0       0            1\n",
      "2     0                   0          0              0       1            0\n",
      "3     1                   0          0              0       0            0\n",
      "4     0                   0          1              0       0            0\n",
      "   Bebê  Bijuterias e Jóias  Decoração  Lembrancinhas  Outros  Papel e Cia\n",
      "0     0                   0          0              1       0            0\n",
      "1     0                   0          1              0       0            0\n",
      "2     0                   0          0              1       0            0\n",
      "3     0                   0          0              1       0            0\n",
      "4     0                   0          0              1       0            0\n"
     ]
    }
   ],
   "source": [
    "df_copy = df_copy.fillna(0)\n",
    "df_one = pd.get_dummies(df_copy.category)\n",
    "print(df_one.head())\n",
    "df_copy = pd.concat([df_copy, df_one], axis=1)\n",
    "\n",
    "df_copy_test = df_copy_test.fillna(0)\n",
    "df_one_test = pd.get_dummies(df_copy_test.category)\n",
    "print(df_one_test.head())\n",
    "df_copy_test = pd.concat([df_copy_test, df_one_test], axis=1)"
   ]
  },
  {
   "cell_type": "markdown",
   "metadata": {},
   "source": [
    "### Extração das Features e Construção do Dicionário"
   ]
  },
  {
   "cell_type": "markdown",
   "metadata": {},
   "source": [
    "Tokeniza as celulas"
   ]
  },
  {
   "cell_type": "code",
   "execution_count": 12,
   "metadata": {},
   "outputs": [
    {
     "name": "stdout",
     "output_type": "stream",
     "text": [
      "0                                       [mandala, mdf]\n",
      "1    [cartao, visita, panfletos, tag, adesivos, cop...\n",
      "2                                          [expositor]\n",
      "3                [jogo, lencol, menino, lencol, berco]\n",
      "4                             [adesivo, box, banheiro]\n",
      "5       [albuns, figurinhas, pai, lucas, album, fotos]\n",
      "6                                     [mini, arranjos]\n",
      "7    [bb, lembrancinhas, maternidade, baby, lembran...\n",
      "8                                          [dia, pais]\n",
      "9    [nascimento, manta, baby, cha, bebe, vestido, ...\n",
      "Name: tokenized_text, dtype: object\n"
     ]
    }
   ],
   "source": [
    "df_copy['tokenized_text'] = [simple_preprocess(line, deacc=True) for line in df_copy['concatenated_tags']]\n",
    "df_copy_test['tokenized_text'] = [simple_preprocess(line, deacc=True) for line in df_copy_test['concatenated_tags']] \n",
    "print(df_copy['tokenized_text'].head(10))"
   ]
  },
  {
   "cell_type": "markdown",
   "metadata": {},
   "source": [
    "Separa o conjunto de trainamento e teste"
   ]
  },
  {
   "cell_type": "code",
   "execution_count": 13,
   "metadata": {},
   "outputs": [
    {
     "name": "stdout",
     "output_type": "stream",
     "text": [
      "0                        [jogo, tapete, oval, croche]\n",
      "1                                        [borboletas]\n",
      "2                              [decoracoes, infantis]\n",
      "3                [quadro, bandeirinhas, festa, carol]\n",
      "4                             [decoracao, sala, aula]\n",
      "                             ...                     \n",
      "20502    [tiaras, tiaras, porta, coque, porta, coque]\n",
      "20503                         [pulseiras, masculinas]\n",
      "20504                  [casa, alianca, moeda, antiga]\n",
      "20505                           [macrame, bijoterias]\n",
      "20506                 [alianca, ouro, aliancas, ouro]\n",
      "Name: tokenized_text, Length: 20507, dtype: object\n"
     ]
    }
   ],
   "source": [
    "categories = df_copy['category'].unique().tolist()\n",
    "X_train = pd.DataFrame(columns=df_copy.columns)\n",
    "X_test = pd.DataFrame(columns=df_copy.columns)\n",
    "#print(df_copy.info())\n",
    "for category in categories:\n",
    "    X_train_c = df_copy[df_copy[category]==1].sample(frac=0.7)\n",
    "    X_test_c = df_copy[~df_copy.index.isin(X_train_c)]\n",
    "    X_train = pd.concat([X_train,X_train_c.copy()])\n",
    "    X_test = pd.concat([X_train,X_test_c.copy()])\n",
    "\n",
    "X_train = X_train.reset_index()\n",
    "X_test = X_test.reset_index()\n",
    "X_train.fillna({'tokenized_text' : ''},inplace=True)\n",
    "X_test.fillna({'tokenized_text' : ''},inplace=True)\n",
    "Y_train = X_train['category']\n",
    "Y_test = X_test['category']\n",
    "print(X_train['tokenized_text'])"
   ]
  },
  {
   "cell_type": "markdown",
   "metadata": {},
   "source": [
    "Construi o modelo Doc2Vec"
   ]
  },
  {
   "cell_type": "code",
   "execution_count": 14,
   "metadata": {},
   "outputs": [],
   "source": [
    "corpus = X_train['tokenized_text'].to_list()\n",
    "\n",
    "documents = [TaggedDocument(doc, [i]) for i, doc in enumerate(X_train['tokenized_text'])]\n",
    "\n",
    "\n",
    "\n",
    "sg_d2v_model = Doc2Vec(documents,min_count = 1)\n",
    "sg_d2v_model.build_vocab(documents)\n",
    "sg_d2v_model.train(documents, total_examples=sg_d2v_model.corpus_count, epochs=sg_d2v_model.epochs)"
   ]
  },
  {
   "cell_type": "markdown",
   "metadata": {},
   "source": [
    "Verificando a codificação"
   ]
  },
  {
   "cell_type": "code",
   "execution_count": 15,
   "metadata": {},
   "outputs": [
    {
     "name": "stdout",
     "output_type": "stream",
     "text": [
      "[ 5.36680341e-01  3.76937360e-01 -1.46126378e+00 -1.68420613e+00\n",
      " -8.52594197e-01 -2.28638029e+00  2.83961058e-01 -3.43895052e-04\n",
      " -1.52068543e+00 -7.82143950e-01  5.27102172e-01  7.46667266e-01\n",
      " -1.93706703e+00  3.60595405e-01  3.76506746e-01 -7.54306018e-01\n",
      "  1.90714085e+00 -6.15521729e-01  5.59632719e-01  4.62678730e-01\n",
      "  1.15760148e+00  1.64752972e+00  1.88390219e+00  3.69929969e-01\n",
      " -1.99454677e+00 -5.43136120e-01  1.07352626e+00 -1.94313765e-01\n",
      "  6.91785336e-01  6.24680892e-02  1.79606187e+00 -1.44865334e+00\n",
      "  1.48609638e+00  4.16602284e-01 -4.00948562e-02  5.05554914e-01\n",
      "  5.40445089e-01  2.05931139e+00 -7.52102315e-01 -2.84959674e-01\n",
      "  6.44475877e-01 -3.39907616e-01  7.92856872e-01  4.48125780e-01\n",
      "  1.38468397e+00  8.82140100e-01  1.66416928e-01 -1.64033437e+00\n",
      "  4.98172998e-01  1.67185009e-01  8.27123821e-02  2.16721606e+00\n",
      "  3.15162587e+00  7.43005931e-01 -8.65081847e-01 -5.57230949e-01\n",
      "  9.82132912e-01  2.15274557e-01 -1.30074739e+00 -2.52754474e+00\n",
      "  5.85850835e-01  7.70216048e-01 -7.59244025e-01  1.01560032e+00\n",
      " -1.11598086e+00  2.11387849e+00 -4.29745436e-01 -2.31334949e+00\n",
      " -7.41236806e-01  9.76813495e-01 -3.80564481e-01 -8.99838865e-01\n",
      "  9.46017683e-01  3.04226249e-01  4.52593714e-01  8.20291281e-01\n",
      "  1.42075360e-01  1.54196155e+00 -1.87718534e+00 -1.40598035e+00\n",
      " -4.23923463e-01 -1.54163420e+00 -9.36957955e-01 -3.84033889e-01\n",
      " -4.01718587e-01  1.01175316e-01 -3.70536894e-02  2.90250741e-02\n",
      " -1.08819282e+00  2.85770726e+00  5.29192798e-02 -1.43609560e+00\n",
      " -9.89724398e-01 -1.69651079e+00  1.63688838e+00  1.00858487e-01\n",
      "  3.98291200e-01  1.42039502e+00 -2.84713745e-01  2.01050639e-02]\n",
      "False\n"
     ]
    }
   ],
   "source": [
    "print(sg_d2v_model.wv.get_vector(\"mdf\"))\n",
    "print('xxx' in sg_d2v_model.wv)"
   ]
  },
  {
   "cell_type": "markdown",
   "metadata": {},
   "source": [
    "Cria função para codificar palavras no Doc2Vec"
   ]
  },
  {
   "cell_type": "code",
   "execution_count": 16,
   "metadata": {},
   "outputs": [
    {
     "name": "stderr",
     "output_type": "stream",
     "text": [
      "/usr/local/lib/python3.10/site-packages/numpy/core/fromnumeric.py:3474: RuntimeWarning: Mean of empty slice.\n",
      "  return _methods._mean(a, axis=axis, dtype=dtype,\n"
     ]
    },
    {
     "data": {
      "text/plain": [
       "(20507, 100)"
      ]
     },
     "execution_count": 16,
     "metadata": {},
     "output_type": "execute_result"
    }
   ],
   "source": [
    "my_features = []\n",
    "dimensions = 100\n",
    "def codify(tokens : List[str]):\n",
    "    np_array = np.mean([sg_d2v_model.wv.get_vector(token) for token in tokens if token in sg_d2v_model.wv] ,axis=0)\n",
    "    if(np_array.size==dimensions):\n",
    "        return np_array\n",
    "    else: \n",
    "        return np.zeros([dimensions])\n",
    "\n",
    "features = np.stack(X_train['tokenized_text'].apply(codify).to_list(),axis=0)\n",
    "features.shape"
   ]
  },
  {
   "cell_type": "markdown",
   "metadata": {},
   "source": [
    "### Treina e avalia o modelo para cada categoria"
   ]
  },
  {
   "cell_type": "markdown",
   "metadata": {},
   "source": [
    "Treina o modelo e coleta métricas"
   ]
  },
  {
   "cell_type": "code",
   "execution_count": 17,
   "metadata": {},
   "outputs": [
    {
     "name": "stdout",
     "output_type": "stream",
     "text": [
      "['Decoração', 'Papel e Cia', 'Outros', 'Bebê', 'Lembrancinhas', 'Bijuterias e Jóias']\n",
      "categoria é Decoração\n",
      "20507\n",
      "              precision    recall  f1-score   support\n",
      "\n",
      "           0       0.95      0.98      0.96     37447\n",
      "           1       0.92      0.85      0.88     12356\n",
      "\n",
      "    accuracy                           0.94     49803\n",
      "   macro avg       0.94      0.91      0.92     49803\n",
      "weighted avg       0.94      0.94      0.94     49803\n",
      "\n",
      "categoria é Papel e Cia\n",
      "20507\n",
      "              precision    recall  f1-score   support\n",
      "\n",
      "           0       0.97      1.00      0.98     45937\n",
      "           1       0.95      0.67      0.79      3866\n",
      "\n",
      "    accuracy                           0.97     49803\n",
      "   macro avg       0.96      0.83      0.89     49803\n",
      "weighted avg       0.97      0.97      0.97     49803\n",
      "\n",
      "categoria é Outros\n",
      "20507\n",
      "              precision    recall  f1-score   support\n",
      "\n",
      "           0       0.99      1.00      1.00     48091\n",
      "           1       0.97      0.83      0.89      1712\n",
      "\n",
      "    accuracy                           0.99     49803\n",
      "   macro avg       0.98      0.91      0.95     49803\n",
      "weighted avg       0.99      0.99      0.99     49803\n",
      "\n",
      "categoria é Bebê\n",
      "20507\n",
      "              precision    recall  f1-score   support\n",
      "\n",
      "           0       0.96      0.99      0.97     40698\n",
      "           1       0.94      0.82      0.88      9105\n",
      "\n",
      "    accuracy                           0.96     49803\n",
      "   macro avg       0.95      0.90      0.93     49803\n",
      "weighted avg       0.96      0.96      0.96     49803\n",
      "\n",
      "categoria é Lembrancinhas\n",
      "20507\n",
      "              precision    recall  f1-score   support\n",
      "\n",
      "           0       0.94      0.89      0.91     28487\n",
      "           1       0.87      0.92      0.89     21316\n",
      "\n",
      "    accuracy                           0.91     49803\n",
      "   macro avg       0.90      0.91      0.90     49803\n",
      "weighted avg       0.91      0.91      0.91     49803\n",
      "\n",
      "categoria é Bijuterias e Jóias\n",
      "20507\n",
      "              precision    recall  f1-score   support\n",
      "\n",
      "           0       1.00      1.00      1.00     48355\n",
      "           1       0.98      0.94      0.96      1448\n",
      "\n",
      "    accuracy                           1.00     49803\n",
      "   macro avg       0.99      0.97      0.98     49803\n",
      "weighted avg       1.00      1.00      1.00     49803\n",
      "\n"
     ]
    }
   ],
   "source": [
    "categories = df_copy['category'].unique().tolist()\n",
    "print(categories)\n",
    "array_clf = {}\n",
    "test_features = np.stack(X_test['tokenized_text'].apply(codify).to_list(),axis=0)\n",
    "for category in categories:\n",
    "    print(\"categoria é \"+category)\n",
    "    #X_train, X_test, Y_train, Y_test = split_function(df_copy,category)\n",
    "    print(len(X_train[category].to_list()))\n",
    "    lgb_clf = lgb.LGBMClassifier(random_state=0)\n",
    "    lgb_clf.fit(features,X_train[category].to_list())\n",
    "    array_clf[category] = lgb_clf\n",
    "    test_predictions = lgb_clf.predict(test_features)\n",
    "    print(classification_report(X_test[category].to_list(),test_predictions))\n",
    "    #salvar como metrica no mlflow"
   ]
  },
  {
   "cell_type": "markdown",
   "metadata": {},
   "source": [
    "## Aplicando o conjunto de treinamento ao próprio modelo"
   ]
  },
  {
   "cell_type": "markdown",
   "metadata": {},
   "source": [
    "Aqui vamos aplicar a categorização ao próprio conjunto de treinamento"
   ]
  },
  {
   "cell_type": "code",
   "execution_count": 18,
   "metadata": {},
   "outputs": [
    {
     "name": "stdout",
     "output_type": "stream",
     "text": [
      "              precision    recall  f1-score   support\n",
      "\n",
      "nonDecoração       0.96      0.98      0.97     15419\n",
      "   Decoração       0.93      0.87      0.90      5088\n",
      "\n",
      "    accuracy                           0.95     20507\n",
      "   macro avg       0.94      0.92      0.93     20507\n",
      "weighted avg       0.95      0.95      0.95     20507\n",
      "\n",
      "                precision    recall  f1-score   support\n",
      "\n",
      "nonPapel e Cia       0.98      1.00      0.99     18915\n",
      "   Papel e Cia       0.96      0.71      0.82      1592\n",
      "\n",
      "      accuracy                           0.98     20507\n",
      "     macro avg       0.97      0.86      0.90     20507\n",
      "  weighted avg       0.98      0.98      0.97     20507\n",
      "\n",
      "              precision    recall  f1-score   support\n",
      "\n",
      "   nonOutros       1.00      1.00      1.00     19802\n",
      "      Outros       0.99      0.92      0.95       705\n",
      "\n",
      "    accuracy                           1.00     20507\n",
      "   macro avg       0.99      0.96      0.98     20507\n",
      "weighted avg       1.00      1.00      1.00     20507\n",
      "\n",
      "              precision    recall  f1-score   support\n",
      "\n",
      "     nonBebê       0.96      0.99      0.98     16758\n",
      "        Bebê       0.95      0.84      0.89      3749\n",
      "\n",
      "    accuracy                           0.96     20507\n",
      "   macro avg       0.96      0.91      0.93     20507\n",
      "weighted avg       0.96      0.96      0.96     20507\n",
      "\n",
      "                  precision    recall  f1-score   support\n",
      "\n",
      "nonLembrancinhas       0.94      0.90      0.92     11730\n",
      "   Lembrancinhas       0.87      0.93      0.90      8777\n",
      "\n",
      "        accuracy                           0.91     20507\n",
      "       macro avg       0.91      0.91      0.91     20507\n",
      "    weighted avg       0.91      0.91      0.91     20507\n",
      "\n",
      "                       precision    recall  f1-score   support\n",
      "\n",
      "nonBijuterias e Jóias       1.00      1.00      1.00     19911\n",
      "   Bijuterias e Jóias       0.99      0.98      0.99       596\n",
      "\n",
      "             accuracy                           1.00     20507\n",
      "            macro avg       1.00      0.99      0.99     20507\n",
      "         weighted avg       1.00      1.00      1.00     20507\n",
      "\n"
     ]
    }
   ],
   "source": [
    "for category in categories:\n",
    "    train_predictions = array_clf[category].predict(features)\n",
    "    report = classification_report(X_train[category].to_list(),train_predictions,target_names=['non'+category,category])\n",
    "    print(report)"
   ]
  }
 ],
 "metadata": {
  "interpreter": {
   "hash": "916dbcbb3f70747c44a77c7bcd40155683ae19c65e1c03b4aa3499c5328201f1"
  },
  "kernelspec": {
   "display_name": "Python 3 (ipykernel)",
   "language": "python",
   "name": "python3"
  },
  "language_info": {
   "codemirror_mode": {
    "name": "ipython",
    "version": 3
   },
   "file_extension": ".py",
   "mimetype": "text/x-python",
   "name": "python",
   "nbconvert_exporter": "python",
   "pygments_lexer": "ipython3",
   "version": "3.10.4"
  }
 },
 "nbformat": 4,
 "nbformat_minor": 2
}
