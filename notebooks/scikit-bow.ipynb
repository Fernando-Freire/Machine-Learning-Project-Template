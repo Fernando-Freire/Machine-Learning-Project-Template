{
 "cells": [
  {
   "cell_type": "markdown",
   "metadata": {},
   "source": [
    "# Categorização de produtos usando Bag of Words\n",
    "## classificador: Decision-Tree"
   ]
  },
  {
   "cell_type": "markdown",
   "metadata": {},
   "source": [
    "Bibliotecas e Configurações"
   ]
  },
  {
   "cell_type": "code",
   "execution_count": 1,
   "metadata": {},
   "outputs": [],
   "source": [
    "import numpy as np\n",
    "import pandas as pd\n",
    "import time\n",
    "import matplotlib.pyplot as plt \n",
    "import boto3\n",
    "\n",
    "\n",
    "from sklearn.feature_extraction.text import CountVectorizer\n",
    "from sklearn.model_selection import train_test_split\n",
    "from sklearn.tree import DecisionTreeClassifier\n",
    "from sklearn.metrics import classification_report"
   ]
  },
  {
   "cell_type": "markdown",
   "metadata": {},
   "source": [
    "Importando o Dataset"
   ]
  },
  {
   "cell_type": "code",
   "execution_count": 2,
   "metadata": {},
   "outputs": [],
   "source": [
    "path = 's3://data/'\n",
    "file_train = 'sample_products.csv'\n",
    "file_test =  'test_products.csv'\n",
    "endpoint_url='http://minio:9000'\n",
    "AWS_ACCESS_KEY_ID = 'minio'\n",
    "AWS_SECRET_ACCESS_KEY = 'minio123'\n",
    "storage_options={\n",
    "        \"key\": AWS_ACCESS_KEY_ID,\n",
    "        \"secret\": AWS_SECRET_ACCESS_KEY,\n",
    "        \"client_kwargs\": {\"endpoint_url\": endpoint_url}\n",
    "    }\n",
    "\n",
    "df_train = pd.read_csv(path+file_train,storage_options=storage_options)\n",
    "df_test = pd.read_csv(path+file_test,storage_options=storage_options)"
   ]
  },
  {
   "cell_type": "markdown",
   "metadata": {},
   "source": [
    "Verificando colunas do Dataset"
   ]
  },
  {
   "cell_type": "code",
   "execution_count": 3,
   "metadata": {},
   "outputs": [
    {
     "data": {
      "text/plain": [
       "Index(['product_id', 'seller_id', 'query', 'search_page', 'position', 'title',\n",
       "       'concatenated_tags', 'creation_date', 'price', 'weight',\n",
       "       'express_delivery', 'minimum_quantity', 'view_counts', 'order_counts',\n",
       "       'category'],\n",
       "      dtype='object')"
      ]
     },
     "execution_count": 3,
     "metadata": {},
     "output_type": "execute_result"
    }
   ],
   "source": [
    "df_train.columns"
   ]
  },
  {
   "cell_type": "markdown",
   "metadata": {},
   "source": [
    "Analisando os dados"
   ]
  },
  {
   "cell_type": "code",
   "execution_count": 4,
   "metadata": {},
   "outputs": [
    {
     "name": "stdout",
     "output_type": "stream",
     "text": [
      "Número de Linhas por categoria:\n",
      "Lembrancinhas         17524\n",
      "Decoração              8723\n",
      "Bebê                   6930\n",
      "Papel e Cia            2750\n",
      "Outros                 1133\n",
      "Bijuterias e Jóias      940\n",
      "Name: category, dtype: int64\n"
     ]
    }
   ],
   "source": [
    "print(\"Número de Linhas por categoria:\")\n",
    "print(df_train['category'].value_counts())"
   ]
  },
  {
   "cell_type": "markdown",
   "metadata": {},
   "source": [
    "Plotando o número de produtos por categoria"
   ]
  },
  {
   "cell_type": "code",
   "execution_count": 5,
   "metadata": {},
   "outputs": [
    {
     "data": {
      "image/png": "[encoded data removed]",
      "text/plain": [
       "<Figure size 432x288 with 1 Axes>"
      ]
     },
     "metadata": {
      "needs_background": "light"
     },
     "output_type": "display_data"
    }
   ],
   "source": [
    "plt.figure()\n",
    "pd.value_counts(df_train['category']).plot.bar(title=\"Número de produtos por categoria no df\")\n",
    "plt.xlabel(\"Categoria\")\n",
    "plt.ylabel(\"Número de produtos\")\n",
    "plt.show()"
   ]
  },
  {
   "cell_type": "markdown",
   "metadata": {},
   "source": [
    "Podemos perceber que o número de produtos por categoria não é similar.\n",
    "\n",
    "Uma possivel abordagem é o uso de algoritmos baseados em árvore de dedicão, onde  mesmo com o desbalanceamento de classe a árvore de decisão consegue crescer para as categorias com mais dados, sem impactar a performance de categorias com menos dados de treinamento."
   ]
  },
  {
   "cell_type": "markdown",
   "metadata": {},
   "source": [
    "### Pré-processamento"
   ]
  },
  {
   "cell_type": "markdown",
   "metadata": {},
   "source": [
    "Removendo produtos duplicados"
   ]
  },
  {
   "cell_type": "code",
   "execution_count": 6,
   "metadata": {},
   "outputs": [],
   "source": [
    "df_copy = df_train.copy()\n",
    "df_copy = df_copy.drop_duplicates('product_id')"
   ]
  },
  {
   "cell_type": "markdown",
   "metadata": {},
   "source": [
    "Concatenando título, query e tags"
   ]
  },
  {
   "cell_type": "code",
   "execution_count": 7,
   "metadata": {},
   "outputs": [],
   "source": [
    "df_copy[\"text\"] = df_copy[\"concatenated_tags\"] + \" \" + df_copy[\"query\"]+ \" \" + df_copy[\"title\"]\n",
    "df_copy = df_copy[df_copy[\"text\"].notnull()]"
   ]
  },
  {
   "cell_type": "markdown",
   "metadata": {},
   "source": [
    "Criar uma coluna para cada categoria"
   ]
  },
  {
   "cell_type": "code",
   "execution_count": 8,
   "metadata": {},
   "outputs": [
    {
     "name": "stdout",
     "output_type": "stream",
     "text": [
      "   Bebê  Bijuterias e Jóias  Decoração  Lembrancinhas  Outros  Papel e Cia\n",
      "0     0                   0          1              0       0            0\n",
      "1     0                   0          0              0       0            1\n",
      "2     0                   0          0              0       1            0\n",
      "3     1                   0          0              0       0            0\n",
      "4     0                   0          1              0       0            0\n"
     ]
    }
   ],
   "source": [
    "df_copy = df_copy.fillna(0)\n",
    "df_one = pd.get_dummies(df_copy.category)\n",
    "print(df_one.head())\n",
    "df_copy = pd.concat([df_copy, df_one], axis=1)"
   ]
  },
  {
   "cell_type": "markdown",
   "metadata": {},
   "source": [
    "### Extração das Features e Construção do Dicionário"
   ]
  },
  {
   "cell_type": "markdown",
   "metadata": {},
   "source": [
    "Tokeniza o texto"
   ]
  },
  {
   "cell_type": "code",
   "execution_count": 9,
   "metadata": {},
   "outputs": [],
   "source": [
    "vectorizer = CountVectorizer()\n",
    "tokenizer = vectorizer.build_tokenizer()\n",
    "df_copy['tokenized_text'] = df_copy['text'].apply(lambda x: tokenizer(x))"
   ]
  },
  {
   "cell_type": "markdown",
   "metadata": {},
   "source": [
    "Separando conjunto de treinamento e test"
   ]
  },
  {
   "cell_type": "code",
   "execution_count": 10,
   "metadata": {},
   "outputs": [],
   "source": [
    "X_train, X_test, Y_train, Y_test = train_test_split(df_copy,df_copy['category'].to_list(),test_size=0.3, shuffle=True,random_state=15)"
   ]
  },
  {
   "cell_type": "markdown",
   "metadata": {},
   "source": [
    "Construi o dicionário que mapeia cada palavra a um inteiro"
   ]
  },
  {
   "cell_type": "code",
   "execution_count": 11,
   "metadata": {},
   "outputs": [
    {
     "name": "stdout",
     "output_type": "stream",
     "text": [
      "Total unique words:\n",
      "10633\n",
      "\n",
      "Sample data from dictionary:\n",
      "Word: canetas - ID: 2486 \n",
      "Word: personalizadas - ID: 7951 \n",
      "Word: caneta - ID: 2485 \n",
      "Word: brinde - ID: 2239 \n"
     ]
    }
   ],
   "source": [
    "my_words = []\n",
    "X_train['tokenized_text'].apply(lambda x: [my_words.append(word) for word in x])\n",
    "train_counts = vectorizer.fit(my_words)\n",
    "print(\"Total unique words:\")\n",
    "print(len(train_counts.vocabulary_))\n",
    "print(\"\\nSample data from dictionary:\")\n",
    "i = 0\n",
    "# Print top 4 (word, id) tuples\n",
    "for key in vectorizer.vocabulary_:\n",
    "    print(\"Word: {} - ID: {} \".format(key, vectorizer.vocabulary_[key]))\n",
    "    if i == 3:\n",
    "        break\n",
    "    i += 1"
   ]
  },
  {
   "cell_type": "markdown",
   "metadata": {},
   "source": [
    "Extrai as features para o conjunto de treinamento"
   ]
  },
  {
   "cell_type": "code",
   "execution_count": 12,
   "metadata": {},
   "outputs": [
    {
     "name": "stdout",
     "output_type": "stream",
     "text": [
      "Line:\n",
      "['canetas', 'personalizadas', 'canetas', 'personalizadas', 'caneta', 'brinde']\n",
      "tamanho\n",
      "6\n",
      "matriz\n",
      "  (0, 2486)\t1\n",
      "  (1, 7951)\t1\n",
      "  (2, 2486)\t1\n",
      "  (3, 7951)\t1\n",
      "  (4, 2485)\t1\n",
      "  (5, 2239)\t1\n",
      "tipo matriz\n",
      "<class 'scipy.sparse._csr.csr_matrix'>\n",
      "<class 'scipy.sparse._csr.csr_matrix'>\n"
     ]
    }
   ],
   "source": [
    "#df_copy['tokenized_text'] = df_copy[df_copy['tokenized_text'].size > 0]\n",
    "for line in X_train['tokenized_text']:\n",
    "    print(\"Line:\")\n",
    "    print(line)\n",
    "    print(\"tamanho\")\n",
    "    print(len(line))\n",
    "    print(\"matriz\")\n",
    "    m = vectorizer.transform(line)\n",
    "    print(m)\n",
    "    print(\"tipo matriz\")\n",
    "    print(type(m))\n",
    "    break\n",
    "#df_copy['features'] = df_copy['tokenized_text'].apply(lambda x: vectorizer.transform(x))\n",
    "features = vectorizer.transform(X_train['text'])\n",
    "print(type(features))"
   ]
  },
  {
   "cell_type": "markdown",
   "metadata": {},
   "source": [
    "### Treina e avalia o modelo para cada categoria"
   ]
  },
  {
   "cell_type": "markdown",
   "metadata": {},
   "source": [
    "Treina o modelo e coleta métricas"
   ]
  },
  {
   "cell_type": "code",
   "execution_count": 13,
   "metadata": {},
   "outputs": [
    {
     "name": "stdout",
     "output_type": "stream",
     "text": [
      "['Decoração', 'Papel e Cia', 'Outros', 'Bebê', 'Lembrancinhas', 'Bijuterias e Jóias']\n",
      "categorie is Decoração\n",
      "              precision    recall  f1-score   support\n",
      "\n",
      "           0       0.95      0.95      0.95      6657\n",
      "           1       0.84      0.86      0.85      2189\n",
      "\n",
      "    accuracy                           0.93      8846\n",
      "   macro avg       0.90      0.90      0.90      8846\n",
      "weighted avg       0.93      0.93      0.93      8846\n",
      "\n",
      "categorie is Papel e Cia\n",
      "              precision    recall  f1-score   support\n",
      "\n",
      "           0       0.98      0.98      0.98      8197\n",
      "           1       0.74      0.69      0.71       649\n",
      "\n",
      "    accuracy                           0.96      8846\n",
      "   macro avg       0.86      0.84      0.85      8846\n",
      "weighted avg       0.96      0.96      0.96      8846\n",
      "\n",
      "categorie is Outros\n",
      "              precision    recall  f1-score   support\n",
      "\n",
      "           0       0.99      0.99      0.99      8521\n",
      "           1       0.75      0.65      0.70       325\n",
      "\n",
      "    accuracy                           0.98      8846\n",
      "   macro avg       0.87      0.82      0.84      8846\n",
      "weighted avg       0.98      0.98      0.98      8846\n",
      "\n",
      "categorie is Bebê\n",
      "              precision    recall  f1-score   support\n",
      "\n",
      "           0       0.95      0.96      0.96      7194\n",
      "           1       0.83      0.80      0.81      1652\n",
      "\n",
      "    accuracy                           0.93      8846\n",
      "   macro avg       0.89      0.88      0.89      8846\n",
      "weighted avg       0.93      0.93      0.93      8846\n",
      "\n",
      "categorie is Lembrancinhas\n",
      "              precision    recall  f1-score   support\n",
      "\n",
      "           0       0.91      0.88      0.90      5104\n",
      "           1       0.85      0.88      0.86      3742\n",
      "\n",
      "    accuracy                           0.88      8846\n",
      "   macro avg       0.88      0.88      0.88      8846\n",
      "weighted avg       0.88      0.88      0.88      8846\n",
      "\n",
      "categorie is Bijuterias e Jóias\n",
      "              precision    recall  f1-score   support\n",
      "\n",
      "           0       1.00      1.00      1.00      8557\n",
      "           1       0.88      0.90      0.89       289\n",
      "\n",
      "    accuracy                           0.99      8846\n",
      "   macro avg       0.94      0.95      0.94      8846\n",
      "weighted avg       0.99      0.99      0.99      8846\n",
      "\n"
     ]
    }
   ],
   "source": [
    "categories = df_copy['category'].unique().tolist()\n",
    "print(categories)\n",
    "array_clf = {}\n",
    "for category in categories:\n",
    "    print(\"categorie is \"+category)\n",
    "    X_train, X_test, Y_train, Y_test = train_test_split(vectorizer.transform(df_copy['text']),df_copy[category].to_list(),test_size=0.3, shuffle=True,random_state=15)\n",
    "    dtc_clf = DecisionTreeClassifier(random_state=0)\n",
    "    dtc_clf.fit(X_train, Y_train)\n",
    "    array_clf[category] = dtc_clf\n",
    "    test_predictions = dtc_clf.predict(X_test)\n",
    "    print(classification_report(Y_test,test_predictions))"
   ]
  },
  {
   "cell_type": "markdown",
   "metadata": {},
   "source": [
    "Define a importância das features"
   ]
  },
  {
   "cell_type": "code",
   "execution_count": 14,
   "metadata": {},
   "outputs": [
    {
     "name": "stdout",
     "output_type": "stream",
     "text": [
      "Category : Decoração\n",
      "(20639, 10633)\n",
      "Variable: weding               Importance: 0.0841164608\n",
      "Variable: lord                 Importance: 0.0811623239\n",
      "Variable: cnc                  Importance: 0.0621074008\n",
      "Variable: dimagia              Importance: 0.0553899269\n",
      "Variable: marie                Importance: 0.031014226\n",
      "Variable: mesclado             Importance: 0.0256015533\n",
      "Variable: relicarios           Importance: 0.0230903148\n",
      "Variable: calm                 Importance: 0.0162658159\n",
      "Variable: redutor              Importance: 0.0155735505\n",
      "Variable: lancamento           Importance: 0.0135135685\n",
      "Variable: cocina               Importance: 0.01233251\n",
      "Variable: nicolly              Importance: 0.0110934066\n",
      "Variable: oxford               Importance: 0.0109691565\n",
      "Variable: composicao           Importance: 0.0109382245\n",
      "Variable: aromatica            Importance: 0.0105450215\n",
      "Variable: biojoias             Importance: 0.0098301017\n",
      "Variable: borda                Importance: 0.0085094765\n",
      "Variable: 002                  Importance: 0.0084713433\n",
      "Variable: nórdico              Importance: 0.0081775823\n",
      "Variable: dr                   Importance: 0.0079856622\n",
      "Variable: grama                Importance: 0.0077275141\n",
      "Category : Papel e Cia\n",
      "(20639, 10633)\n",
      "Variable: thai                 Importance: 0.0703815645\n",
      "Variable: tchuts               Importance: 0.0604235943\n",
      "Variable: gamer                Importance: 0.0509622439\n",
      "Variable: zombies              Importance: 0.0335559494\n",
      "Variable: embrulhados          Importance: 0.0316895405\n",
      "Variable: bancos               Importance: 0.0280281672\n",
      "Variable: fibra                Importance: 0.0247167186\n",
      "Variable: sementinha           Importance: 0.0185371684\n",
      "Variable: cristao              Importance: 0.0162861377\n",
      "Variable: zig                  Importance: 0.0152617504\n",
      "Variable: leãozinho            Importance: 0.0130902732\n",
      "Variable: alvaro               Importance: 0.0129803077\n",
      "Variable: dudu                 Importance: 0.0118661562\n",
      "Variable: bonés                Importance: 0.0118414522\n",
      "Variable: alfazemas            Importance: 0.0111795371\n",
      "Variable: sapatilhas           Importance: 0.0107322319\n",
      "Variable: grama                Importance: 0.0102470077\n",
      "Variable: lancamento           Importance: 0.0101397369\n",
      "Variable: custa                Importance: 0.0100897064\n",
      "Variable: xbox                 Importance: 0.008799783\n",
      "Variable: 2327                 Importance: 0.007985061\n",
      "Category : Outros\n",
      "(20639, 10633)\n",
      "Variable: pneu                 Importance: 0.1001790432\n",
      "Variable: varios               Importance: 0.0314956424\n",
      "Variable: área                 Importance: 0.029478647\n",
      "Variable: semaforo             Importance: 0.0283993325\n",
      "Variable: classico             Importance: 0.0227155184\n",
      "Variable: 3palavrinhas         Importance: 0.0216230746\n",
      "Variable: alfazemas            Importance: 0.0212262049\n",
      "Variable: virtual              Importance: 0.0204276489\n",
      "Variable: river                Importance: 0.0159650694\n",
      "Variable: hóstia               Importance: 0.0144835513\n",
      "Variable: esponja              Importance: 0.0137320303\n",
      "Variable: brinquedos           Importance: 0.0131476985\n",
      "Variable: banhadas             Importance: 0.0130237906\n",
      "Variable: arthurzinho          Importance: 0.010181691\n",
      "Variable: sousplats            Importance: 0.0101746622\n",
      "Variable: marie                Importance: 0.0101229128\n",
      "Variable: iniciante            Importance: 0.0098822835\n",
      "Variable: percal               Importance: 0.0089162529\n",
      "Variable: lolzinho             Importance: 0.0076803348\n",
      "Variable: saltando             Importance: 0.0074743854\n",
      "Variable: acriílico            Importance: 0.0073402588\n",
      "Category : Bebê\n",
      "(20639, 10633)\n",
      "Variable: lancamento           Importance: 0.222724048\n",
      "Variable: biojoias             Importance: 0.0937555019\n",
      "Variable: 70x70                Importance: 0.0512165687\n",
      "Variable: dr                   Importance: 0.0395386631\n",
      "Variable: marie                Importance: 0.0365785235\n",
      "Variable: haras                Importance: 0.0347311896\n",
      "Variable: renascenca           Importance: 0.0339918953\n",
      "Variable: 13x08x3              Importance: 0.0110488658\n",
      "Variable: 5x3cm                Importance: 0.0108523793\n",
      "Variable: decoraçao            Importance: 0.0088507683\n",
      "Variable: weding               Importance: 0.0081564567\n",
      "Variable: iniciante            Importance: 0.0081165584\n",
      "Variable: 01                   Importance: 0.008064008\n",
      "Variable: online               Importance: 0.0079597538\n",
      "Variable: ovni                 Importance: 0.0079459698\n",
      "Variable: safarii              Importance: 0.0074229207\n",
      "Variable: draconis             Importance: 0.0068343699\n",
      "Variable: solas                Importance: 0.0065844991\n",
      "Variable: 17x22cm              Importance: 0.0065770118\n",
      "Variable: peça                 Importance: 0.0059550448\n",
      "Variable: dimagia              Importance: 0.0056502791\n",
      "Category : Lembrancinhas\n",
      "(20639, 10633)\n",
      "Variable: marie                Importance: 0.1723924867\n",
      "Variable: grama                Importance: 0.0757768086\n",
      "Variable: solas                Importance: 0.0407364864\n",
      "Variable: geek                 Importance: 0.0386498164\n",
      "Variable: history              Importance: 0.0263910013\n",
      "Variable: bodybaby             Importance: 0.0243788607\n",
      "Variable: note                 Importance: 0.0212835287\n",
      "Variable: leãozinho            Importance: 0.015931059\n",
      "Variable: biojoias             Importance: 0.0133447755\n",
      "Variable: ursa                 Importance: 0.0133266937\n",
      "Variable: regras               Importance: 0.0115626714\n",
      "Variable: 053                  Importance: 0.0115365983\n",
      "Variable: lancamento           Importance: 0.010034725\n",
      "Variable: majestade            Importance: 0.0100149673\n",
      "Variable: iniciante            Importance: 0.0096225525\n",
      "Variable: cromado              Importance: 0.0085508655\n",
      "Variable: macramê              Importance: 0.0076727675\n",
      "Variable: apps                 Importance: 0.0071802691\n",
      "Variable: lord                 Importance: 0.0061030578\n",
      "Variable: haras                Importance: 0.0059307184\n",
      "Variable: acrílico             Importance: 0.0059153839\n",
      "Category : Bijuterias e Jóias\n",
      "(20639, 10633)\n",
      "Variable: aluminio             Importance: 0.2430292534\n",
      "Variable: cruz                 Importance: 0.1301279148\n",
      "Variable: 19                   Importance: 0.104775989\n",
      "Variable: penteado             Importance: 0.0950881288\n",
      "Variable: corporativos         Importance: 0.0629101586\n",
      "Variable: passa                Importance: 0.0453402795\n",
      "Variable: babyboy              Importance: 0.0271588528\n",
      "Variable: caminho              Importance: 0.0199554885\n",
      "Variable: fundamental          Importance: 0.019606074\n",
      "Variable: recortada            Importance: 0.0180765742\n",
      "Variable: confeccoes           Importance: 0.0140739357\n",
      "Variable: fotografar           Importance: 0.0126844367\n",
      "Variable: graduation           Importance: 0.0110139253\n",
      "Variable: rentaveis            Importance: 0.0108794255\n",
      "Variable: grama                Importance: 0.0106062648\n",
      "Variable: bbl                  Importance: 0.0075521212\n",
      "Variable: nicolly              Importance: 0.0061109307\n",
      "Variable: plastic              Importance: 0.0059199622\n",
      "Variable: maternidad           Importance: 0.0054481277\n",
      "Variable: fogao                Importance: 0.0043332477\n",
      "Variable: borda                Importance: 0.0041395821\n"
     ]
    }
   ],
   "source": [
    "for category in categories:\n",
    "    print(\"Category : \"+category)\n",
    "    importances = list(array_clf[category].feature_importances_)\n",
    "    print(features.shape)\n",
    "    feature_importances = [(feature, round(importance, 10)) for feature, importance in zip(vectorizer.vocabulary_, importances)]\n",
    "    feature_importances = sorted(feature_importances, key = lambda x: x[1], reverse = True)\n",
    "    top_i = 0\n",
    "    for pair in feature_importances:\n",
    "        print('Variable: {:20} Importance: {}'.format(*pair))\n",
    "        if top_i == 20:\n",
    "            break\n",
    "        top_i += 1"
   ]
  }
 ],
 "metadata": {
  "interpreter": {
   "hash": "916dbcbb3f70747c44a77c7bcd40155683ae19c65e1c03b4aa3499c5328201f1"
  },
  "kernelspec": {
   "display_name": "Python 3 (ipykernel)",
   "language": "python",
   "name": "python3"
  },
  "language_info": {
   "codemirror_mode": {
    "name": "ipython",
    "version": 3
   },
   "file_extension": ".py",
   "mimetype": "text/x-python",
   "name": "python",
   "nbconvert_exporter": "python",
   "pygments_lexer": "ipython3",
   "version": "3.10.4"
  }
 },
 "nbformat": 4,
 "nbformat_minor": 2
}
